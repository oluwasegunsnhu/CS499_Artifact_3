{
 "cells": [
  {
   "cell_type": "code",
   "execution_count": 1,
   "id": "95320787",
   "metadata": {},
   "outputs": [
    {
     "ename": "ModuleNotFoundError",
     "evalue": "No module named 'jupyter_plotly_dash'",
     "output_type": "error",
     "traceback": [
      "\u001b[1;31m---------------------------------------------------------------------------\u001b[0m",
      "\u001b[1;31mModuleNotFoundError\u001b[0m                       Traceback (most recent call last)",
      "\u001b[1;32m~\\AppData\\Local\\Temp\\ipykernel_16208\\2252183753.py\u001b[0m in \u001b[0;36m<module>\u001b[1;34m\u001b[0m\n\u001b[1;32m----> 1\u001b[1;33m \u001b[1;32mfrom\u001b[0m \u001b[0mjupyter_plotly_dash\u001b[0m \u001b[1;32mimport\u001b[0m \u001b[0mJupyterDash\u001b[0m\u001b[1;33m\u001b[0m\u001b[1;33m\u001b[0m\u001b[0m\n\u001b[0m\u001b[0;32m      2\u001b[0m \u001b[1;33m\u001b[0m\u001b[0m\n\u001b[0;32m      3\u001b[0m \u001b[1;33m\u001b[0m\u001b[0m\n\u001b[0;32m      4\u001b[0m \u001b[1;33m\u001b[0m\u001b[0m\n\u001b[0;32m      5\u001b[0m \u001b[1;32mimport\u001b[0m \u001b[0mdash\u001b[0m\u001b[1;33m\u001b[0m\u001b[1;33m\u001b[0m\u001b[0m\n",
      "\u001b[1;31mModuleNotFoundError\u001b[0m: No module named 'jupyter_plotly_dash'"
     ]
    }
   ],
   "source": [
    "\n",
    "from pymongo import MongoClient\n",
    "from bson.objectid import ObjectId\n",
    "\n",
    "class AnimalShelter(object):\n",
    "    \"\"\" CRUD operations for Animal collection in MongoDB \"\"\"\n",
    "\n",
    "    def __init__(self, username, password):\n",
    "        # Initializing the MongoClient. This helps to\n",
    "        # access the MongoDB databases and collections.\n",
    "        self.client = MongoClient('mongodb://%s:%s@localhost:43282' % (username, password))\n",
    "        self.AAC = self.client['AAC']\n",
    "\n",
    "    # Create method to implement the C in CRUD\n",
    "    def create(self, data):\n",
    "        if data is not None:\n",
    "            return self.AAC.animals.insert_one(data)\n",
    "        else:\n",
    "            print(\"Nothing to save\")\n",
    "            return False\n",
    "\n",
    "    # Create method to implement the C in CRUD\n",
    "    def read(self, data):\n",
    "        if data is not None:\n",
    "            return self.AAC.animals.find(data)\n",
    "        else:\n",
    "            print(\"Nothing to read\")\n",
    "            return False\n",
    "\n",
    "    # Create method to implement the C in CRUD\n",
    "    def update(self, data, newData):\n",
    "        if data is not None:\n",
    "            return self.AAC.animals.update_one(data, {'$set': newData})\n",
    "\n",
    "        else:\n",
    "            print(\"Nothing to update, because data parameter is empty\")\n",
    "            return False\n",
    "\n",
    "       \n",
    "    # Create method to implement the D in CRUD\n",
    "    def delete(self, data):\n",
    "        if data is not None:\n",
    "            return self.AAC.animals.delete_one(data)\n",
    "            print(\"data deleted\")\n",
    "        else:\n",
    "            return False"
   ]
  }
 ],
 "metadata": {
  "kernelspec": {
   "display_name": "Python 3 (ipykernel)",
   "language": "python",
   "name": "python3"
  },
  "language_info": {
   "codemirror_mode": {
    "name": "ipython",
    "version": 3
   },
   "file_extension": ".py",
   "mimetype": "text/x-python",
   "name": "python",
   "nbconvert_exporter": "python",
   "pygments_lexer": "ipython3",
   "version": "3.9.13"
  }
 },
 "nbformat": 4,
 "nbformat_minor": 5
}
